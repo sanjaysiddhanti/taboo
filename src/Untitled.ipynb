{
 "cells": [
  {
   "cell_type": "code",
   "execution_count": 1,
   "metadata": {},
   "outputs": [
    {
     "name": "stdout",
     "output_type": "stream",
     "text": [
      "hello, world\n",
      "Created a game\n",
      "{'id': 2}\n",
      "I received a message! luigi has entered the room.\n"
     ]
    }
   ],
   "source": [
    "import socketio\n",
    "\n",
    "sio = socketio.Client()\n",
    "\n",
    "sio.connect('http://flask:5000')\n",
    "\n",
    "@sio.event\n",
    "def message(data):\n",
    "    print(f'I received a message! {data}')\n",
    "\n",
    "@sio.on('hello world')\n",
    "def starting(data):\n",
    "    print(data['msg'])\n",
    "\n",
    "@sio.on('game created')\n",
    "def starting(data):\n",
    "    print('Created a game')\n",
    "    print(data)\n",
    "\n",
    "sio.emit('hello world')\n",
    "\n",
    "sio.emit('create game', {'username': 'luigi'})"
   ]
  },
  {
   "cell_type": "code",
   "execution_count": 3,
   "metadata": {},
   "outputs": [],
   "source": [
    "sio.emit('join game', {'username': 'luigi', 'room': 'TPOB'})"
   ]
  },
  {
   "cell_type": "code",
   "execution_count": null,
   "metadata": {},
   "outputs": [],
   "source": []
  }
 ],
 "metadata": {
  "kernelspec": {
   "display_name": "Python 3",
   "language": "python",
   "name": "python3"
  },
  "language_info": {
   "codemirror_mode": {
    "name": "ipython",
    "version": 3
   },
   "file_extension": ".py",
   "mimetype": "text/x-python",
   "name": "python",
   "nbconvert_exporter": "python",
   "pygments_lexer": "ipython3",
   "version": "3.8.2"
  }
 },
 "nbformat": 4,
 "nbformat_minor": 4
}
